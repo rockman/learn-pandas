{
 "cells": [
  {
   "cell_type": "code",
   "execution_count": null,
   "metadata": {},
   "outputs": [],
   "source": [
    "import pandas as pd\n",
    "import numpy as np"
   ]
  },
  {
   "cell_type": "code",
   "execution_count": null,
   "metadata": {},
   "outputs": [],
   "source": [
    "df = pd.read_pickle(\"data_frame.pickle\")"
   ]
  },
  {
   "cell_type": "code",
   "execution_count": null,
   "metadata": {},
   "outputs": [],
   "source": [
    "small_df = df.iloc[49980:50019, :].copy()\n",
    "small_df.info()"
   ]
  },
  {
   "cell_type": "code",
   "execution_count": null,
   "metadata": {},
   "outputs": [],
   "source": [
    "small_df.iloc[29,:]"
   ]
  },
  {
   "cell_type": "code",
   "execution_count": null,
   "metadata": {},
   "outputs": [],
   "source": [
    "small_df.loc[16441,:]"
   ]
  },
  {
   "cell_type": "code",
   "execution_count": null,
   "metadata": {},
   "outputs": [],
   "source": [
    "small_df.loc[16441,\"medium\"] = np.nan\n",
    "small_df.loc[11838,\"medium\"] = np.nan"
   ]
  },
  {
   "cell_type": "code",
   "execution_count": null,
   "metadata": {},
   "outputs": [],
   "source": [
    "small_df.loc[small_df[\"medium\"].isna(),:]"
   ]
  },
  {
   "cell_type": "code",
   "execution_count": null,
   "metadata": {},
   "outputs": [],
   "source": [
    "def clean_series(series):\n",
    "    value_counts = series.value_counts()\n",
    "    if value_counts.empty:\n",
    "        return series\n",
    "\n",
    "    return series.fillna(value_counts.idxmax())\n",
    "\n",
    "def clean_df(df):\n",
    "    return df.assign(medium=clean_series(df['medium']))\n"
   ]
  },
  {
   "cell_type": "code",
   "execution_count": null,
   "metadata": {},
   "outputs": [],
   "source": [
    "from IPython.display import display\n",
    "\n",
    "groups = []\n",
    "\n",
    "for name, group in small_df.groupby('artist'):\n",
    "    cleaned = clean_df(group)\n",
    "    print(name)\n",
    "    display(cleaned)\n",
    "    print()\n",
    "    groups.append(cleaned)\n",
    "\n",
    "new_df = pd.concat(groups)\n",
    "new_df"
   ]
  },
  {
   "cell_type": "code",
   "execution_count": null,
   "metadata": {},
   "outputs": [],
   "source": [
    "mediums = small_df.groupby('artist')['medium']\n",
    "small_df.assign(medium=mediums.transform(clean_series))"
   ]
  },
  {
   "cell_type": "code",
   "execution_count": null,
   "metadata": {},
   "outputs": [],
   "source": []
  }
 ],
 "metadata": {
  "kernelspec": {
   "display_name": "Python 3",
   "language": "python",
   "name": "python3"
  },
  "language_info": {
   "codemirror_mode": {
    "name": "ipython",
    "version": 3
   },
   "file_extension": ".py",
   "mimetype": "text/x-python",
   "name": "python",
   "nbconvert_exporter": "python",
   "pygments_lexer": "ipython3",
   "version": "3.7.0"
  },
  "orig_nbformat": 4,
  "vscode": {
   "interpreter": {
    "hash": "5cf590adf64b12f100e2631293f66eedf21812d31d21d345d3dafaac5b13c0f5"
   }
  }
 },
 "nbformat": 4,
 "nbformat_minor": 2
}
